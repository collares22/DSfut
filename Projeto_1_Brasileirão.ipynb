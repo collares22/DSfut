{
  "nbformat": 4,
  "nbformat_minor": 0,
  "metadata": {
    "colab": {
      "name": "Projeto_1_Brasileirão.ipynb",
      "provenance": [],
      "collapsed_sections": [],
      "include_colab_link": true
    },
    "kernelspec": {
      "name": "python3",
      "display_name": "Python 3"
    },
    "language_info": {
      "name": "python"
    }
  },
  "cells": [
    {
      "cell_type": "markdown",
      "metadata": {
        "id": "view-in-github",
        "colab_type": "text"
      },
      "source": [
        "<a href=\"https://colab.research.google.com/github/collares22/DSfut/blob/main/Projeto_1_Brasileir%C3%A3o.ipynb\" target=\"_parent\"><img src=\"https://colab.research.google.com/assets/colab-badge.svg\" alt=\"Open In Colab\"/></a>"
      ]
    },
    {
      "cell_type": "code",
      "execution_count": 135,
      "metadata": {
        "id": "smrPPd-EAR1-"
      },
      "outputs": [],
      "source": [
        "#Importando todas as bibliotecas que serão usadas para construir o modelo de predição baseado em Sklearn\n",
        "\n",
        "import pandas as pd\n",
        "import numpy as np\n",
        "from sklearn.linear_model import LogisticRegression #estudar \n",
        "from sklearn.tree import DecisionTreeClassifier #estudar\n",
        "from sklearn.naive_bayes import GaussianNB #estudar\n",
        "from sklearn.svm import SVC #estudas\n",
        "from sklearn.metrics import accuracy_score,f1_score,precision_score, recall_score #estudar\n",
        "from sklearn.feature_selection import SelectKBest #estudar \n",
        "from sklearn.model_selection import GridSearchCV #estudar \n",
        "from sklearn.preprocessing import StandardScaler, MinMaxScaler #estudar\n",
        "from IPython.display import display #para visualizar os dados em tabelas\n",
        "import matplotlib.pyplot as plt #para visualizar os dados em tabelas\n",
        "import seaborn as StandardScaler #para visualizar os dados em tabelas\n",
        "from sklearn.preprocessing import MinMaxScaler #para visualizar os dados em tabelas\n",
        "import seaborn as sns\n",
        "from sklearn.datasets import make_classification\n",
        "from sklearn.metrics import confusion_matrix, ConfusionMatrixDisplay\n",
        "%matplotlib inline\n"
      ]
    },
    {
      "cell_type": "code",
      "source": [
        "df=pd.read_csv(\"/content/BRAV3.CSV\",sep=\";\") #importei os dados usando o pandas"
      ],
      "metadata": {
        "id": "pX92LwGrIxos"
      },
      "execution_count": 136,
      "outputs": []
    },
    {
      "cell_type": "code",
      "source": [
        "df=df.dropna()"
      ],
      "metadata": {
        "id": "pZy69QV1uf16"
      },
      "execution_count": 137,
      "outputs": []
    },
    {
      "cell_type": "code",
      "source": [
        "display(df.head()) #Visualizar os dados no python"
      ],
      "metadata": {
        "colab": {
          "base_uri": "https://localhost:8080/",
          "height": 206
        },
        "id": "nfiXSGliAgUQ",
        "outputId": "89ebb0c7-7a54-47a9-95aa-68c749185494"
      },
      "execution_count": 138,
      "outputs": [
        {
          "output_type": "display_data",
          "data": {
            "text/plain": [
              "  Country   League  Season        Date   Time          Home         Away   HG  \\\n",
              "0  Brazil  Serie A    2012  19/05/2012  22:30     Palmeiras   Portuguesa  1.0   \n",
              "1  Brazil  Serie A    2012  19/05/2012  22:30  Sport Recife  Flamengo RJ  1.0   \n",
              "2  Brazil  Serie A    2012  20/05/2012  01:00   Figueirense      Nautico  2.0   \n",
              "3  Brazil  Serie A    2012  20/05/2012  20:00   Botafogo RJ    Sao Paulo  4.0   \n",
              "4  Brazil  Serie A    2012  20/05/2012  20:00   Corinthians   Fluminense  0.0   \n",
              "\n",
              "    AG  Res    PH    PE    PA  MaxH  MaxD  MaxA  AvgH  AvgD  AvgA  \n",
              "0  1.0    0  1.76  3.86  5.25  1.76  3.87  5.31  1.69  3.50  4.90  \n",
              "1  1.0    0  2.83  3.39  2.68  2.83  3.42  2.70  2.59  3.23  2.58  \n",
              "2  1.0    1  1.60  4.04  6.72  1.67  4.05  7.22  1.59  3.67  5.64  \n",
              "3  2.0    1  2.49  3.35  3.15  2.49  3.39  3.15  2.35  3.26  2.84  \n",
              "4  1.0    2  1.96  3.53  4.41  1.96  3.53  4.41  1.89  3.33  3.89  "
            ],
            "text/html": [
              "\n",
              "  <div id=\"df-1db6627f-3d65-43d5-a4ed-bf371dab52de\">\n",
              "    <div class=\"colab-df-container\">\n",
              "      <div>\n",
              "<style scoped>\n",
              "    .dataframe tbody tr th:only-of-type {\n",
              "        vertical-align: middle;\n",
              "    }\n",
              "\n",
              "    .dataframe tbody tr th {\n",
              "        vertical-align: top;\n",
              "    }\n",
              "\n",
              "    .dataframe thead th {\n",
              "        text-align: right;\n",
              "    }\n",
              "</style>\n",
              "<table border=\"1\" class=\"dataframe\">\n",
              "  <thead>\n",
              "    <tr style=\"text-align: right;\">\n",
              "      <th></th>\n",
              "      <th>Country</th>\n",
              "      <th>League</th>\n",
              "      <th>Season</th>\n",
              "      <th>Date</th>\n",
              "      <th>Time</th>\n",
              "      <th>Home</th>\n",
              "      <th>Away</th>\n",
              "      <th>HG</th>\n",
              "      <th>AG</th>\n",
              "      <th>Res</th>\n",
              "      <th>PH</th>\n",
              "      <th>PE</th>\n",
              "      <th>PA</th>\n",
              "      <th>MaxH</th>\n",
              "      <th>MaxD</th>\n",
              "      <th>MaxA</th>\n",
              "      <th>AvgH</th>\n",
              "      <th>AvgD</th>\n",
              "      <th>AvgA</th>\n",
              "    </tr>\n",
              "  </thead>\n",
              "  <tbody>\n",
              "    <tr>\n",
              "      <th>0</th>\n",
              "      <td>Brazil</td>\n",
              "      <td>Serie A</td>\n",
              "      <td>2012</td>\n",
              "      <td>19/05/2012</td>\n",
              "      <td>22:30</td>\n",
              "      <td>Palmeiras</td>\n",
              "      <td>Portuguesa</td>\n",
              "      <td>1.0</td>\n",
              "      <td>1.0</td>\n",
              "      <td>0</td>\n",
              "      <td>1.76</td>\n",
              "      <td>3.86</td>\n",
              "      <td>5.25</td>\n",
              "      <td>1.76</td>\n",
              "      <td>3.87</td>\n",
              "      <td>5.31</td>\n",
              "      <td>1.69</td>\n",
              "      <td>3.50</td>\n",
              "      <td>4.90</td>\n",
              "    </tr>\n",
              "    <tr>\n",
              "      <th>1</th>\n",
              "      <td>Brazil</td>\n",
              "      <td>Serie A</td>\n",
              "      <td>2012</td>\n",
              "      <td>19/05/2012</td>\n",
              "      <td>22:30</td>\n",
              "      <td>Sport Recife</td>\n",
              "      <td>Flamengo RJ</td>\n",
              "      <td>1.0</td>\n",
              "      <td>1.0</td>\n",
              "      <td>0</td>\n",
              "      <td>2.83</td>\n",
              "      <td>3.39</td>\n",
              "      <td>2.68</td>\n",
              "      <td>2.83</td>\n",
              "      <td>3.42</td>\n",
              "      <td>2.70</td>\n",
              "      <td>2.59</td>\n",
              "      <td>3.23</td>\n",
              "      <td>2.58</td>\n",
              "    </tr>\n",
              "    <tr>\n",
              "      <th>2</th>\n",
              "      <td>Brazil</td>\n",
              "      <td>Serie A</td>\n",
              "      <td>2012</td>\n",
              "      <td>20/05/2012</td>\n",
              "      <td>01:00</td>\n",
              "      <td>Figueirense</td>\n",
              "      <td>Nautico</td>\n",
              "      <td>2.0</td>\n",
              "      <td>1.0</td>\n",
              "      <td>1</td>\n",
              "      <td>1.60</td>\n",
              "      <td>4.04</td>\n",
              "      <td>6.72</td>\n",
              "      <td>1.67</td>\n",
              "      <td>4.05</td>\n",
              "      <td>7.22</td>\n",
              "      <td>1.59</td>\n",
              "      <td>3.67</td>\n",
              "      <td>5.64</td>\n",
              "    </tr>\n",
              "    <tr>\n",
              "      <th>3</th>\n",
              "      <td>Brazil</td>\n",
              "      <td>Serie A</td>\n",
              "      <td>2012</td>\n",
              "      <td>20/05/2012</td>\n",
              "      <td>20:00</td>\n",
              "      <td>Botafogo RJ</td>\n",
              "      <td>Sao Paulo</td>\n",
              "      <td>4.0</td>\n",
              "      <td>2.0</td>\n",
              "      <td>1</td>\n",
              "      <td>2.49</td>\n",
              "      <td>3.35</td>\n",
              "      <td>3.15</td>\n",
              "      <td>2.49</td>\n",
              "      <td>3.39</td>\n",
              "      <td>3.15</td>\n",
              "      <td>2.35</td>\n",
              "      <td>3.26</td>\n",
              "      <td>2.84</td>\n",
              "    </tr>\n",
              "    <tr>\n",
              "      <th>4</th>\n",
              "      <td>Brazil</td>\n",
              "      <td>Serie A</td>\n",
              "      <td>2012</td>\n",
              "      <td>20/05/2012</td>\n",
              "      <td>20:00</td>\n",
              "      <td>Corinthians</td>\n",
              "      <td>Fluminense</td>\n",
              "      <td>0.0</td>\n",
              "      <td>1.0</td>\n",
              "      <td>2</td>\n",
              "      <td>1.96</td>\n",
              "      <td>3.53</td>\n",
              "      <td>4.41</td>\n",
              "      <td>1.96</td>\n",
              "      <td>3.53</td>\n",
              "      <td>4.41</td>\n",
              "      <td>1.89</td>\n",
              "      <td>3.33</td>\n",
              "      <td>3.89</td>\n",
              "    </tr>\n",
              "  </tbody>\n",
              "</table>\n",
              "</div>\n",
              "      <button class=\"colab-df-convert\" onclick=\"convertToInteractive('df-1db6627f-3d65-43d5-a4ed-bf371dab52de')\"\n",
              "              title=\"Convert this dataframe to an interactive table.\"\n",
              "              style=\"display:none;\">\n",
              "        \n",
              "  <svg xmlns=\"http://www.w3.org/2000/svg\" height=\"24px\"viewBox=\"0 0 24 24\"\n",
              "       width=\"24px\">\n",
              "    <path d=\"M0 0h24v24H0V0z\" fill=\"none\"/>\n",
              "    <path d=\"M18.56 5.44l.94 2.06.94-2.06 2.06-.94-2.06-.94-.94-2.06-.94 2.06-2.06.94zm-11 1L8.5 8.5l.94-2.06 2.06-.94-2.06-.94L8.5 2.5l-.94 2.06-2.06.94zm10 10l.94 2.06.94-2.06 2.06-.94-2.06-.94-.94-2.06-.94 2.06-2.06.94z\"/><path d=\"M17.41 7.96l-1.37-1.37c-.4-.4-.92-.59-1.43-.59-.52 0-1.04.2-1.43.59L10.3 9.45l-7.72 7.72c-.78.78-.78 2.05 0 2.83L4 21.41c.39.39.9.59 1.41.59.51 0 1.02-.2 1.41-.59l7.78-7.78 2.81-2.81c.8-.78.8-2.07 0-2.86zM5.41 20L4 18.59l7.72-7.72 1.47 1.35L5.41 20z\"/>\n",
              "  </svg>\n",
              "      </button>\n",
              "      \n",
              "  <style>\n",
              "    .colab-df-container {\n",
              "      display:flex;\n",
              "      flex-wrap:wrap;\n",
              "      gap: 12px;\n",
              "    }\n",
              "\n",
              "    .colab-df-convert {\n",
              "      background-color: #E8F0FE;\n",
              "      border: none;\n",
              "      border-radius: 50%;\n",
              "      cursor: pointer;\n",
              "      display: none;\n",
              "      fill: #1967D2;\n",
              "      height: 32px;\n",
              "      padding: 0 0 0 0;\n",
              "      width: 32px;\n",
              "    }\n",
              "\n",
              "    .colab-df-convert:hover {\n",
              "      background-color: #E2EBFA;\n",
              "      box-shadow: 0px 1px 2px rgba(60, 64, 67, 0.3), 0px 1px 3px 1px rgba(60, 64, 67, 0.15);\n",
              "      fill: #174EA6;\n",
              "    }\n",
              "\n",
              "    [theme=dark] .colab-df-convert {\n",
              "      background-color: #3B4455;\n",
              "      fill: #D2E3FC;\n",
              "    }\n",
              "\n",
              "    [theme=dark] .colab-df-convert:hover {\n",
              "      background-color: #434B5C;\n",
              "      box-shadow: 0px 1px 3px 1px rgba(0, 0, 0, 0.15);\n",
              "      filter: drop-shadow(0px 1px 2px rgba(0, 0, 0, 0.3));\n",
              "      fill: #FFFFFF;\n",
              "    }\n",
              "  </style>\n",
              "\n",
              "      <script>\n",
              "        const buttonEl =\n",
              "          document.querySelector('#df-1db6627f-3d65-43d5-a4ed-bf371dab52de button.colab-df-convert');\n",
              "        buttonEl.style.display =\n",
              "          google.colab.kernel.accessAllowed ? 'block' : 'none';\n",
              "\n",
              "        async function convertToInteractive(key) {\n",
              "          const element = document.querySelector('#df-1db6627f-3d65-43d5-a4ed-bf371dab52de');\n",
              "          const dataTable =\n",
              "            await google.colab.kernel.invokeFunction('convertToInteractive',\n",
              "                                                     [key], {});\n",
              "          if (!dataTable) return;\n",
              "\n",
              "          const docLinkHtml = 'Like what you see? Visit the ' +\n",
              "            '<a target=\"_blank\" href=https://colab.research.google.com/notebooks/data_table.ipynb>data table notebook</a>'\n",
              "            + ' to learn more about interactive tables.';\n",
              "          element.innerHTML = '';\n",
              "          dataTable['output_type'] = 'display_data';\n",
              "          await google.colab.output.renderOutput(dataTable, element);\n",
              "          const docLink = document.createElement('div');\n",
              "          docLink.innerHTML = docLinkHtml;\n",
              "          element.appendChild(docLink);\n",
              "        }\n",
              "      </script>\n",
              "    </div>\n",
              "  </div>\n",
              "  "
            ]
          },
          "metadata": {}
        }
      ]
    },
    {
      "cell_type": "code",
      "source": [
        "#Notas do dataset de futebol\n",
        "\n",
        "#Country = país do campeonato\n",
        "#League = nome da liga\n",
        "#game_id = id do jogo\n",
        "#Season = temporada\n",
        "#date = data do jogo\n",
        "#Time = hora do jogo\n",
        "#Home = Time da casa\n",
        "#home_id = id do time da casa\n",
        "#Away = time visitante\n",
        "#Away_id =  id do time visitante\n",
        "#HG = Gols do time da casa\n",
        "#AG = Gols do time visitante\n",
        "#Res = Resultado do jogo (D=Draw, H=Home win, A=Away win)\n",
        "#PH = probablidade vitória time da casa provida pela Pinacle (casa de aposta inglesa)\n",
        "#PE = probablidade empate provida pela Pinacle (casa de aposta inglesa)\n",
        "#PA = probablidade vitória time visitante provida pela Pinacle (casa de aposta inglesa)\n",
        "#MaxH = probablidade vitória time da casa provida pela OddsPortal (casa de aposta inglesa)\n",
        "#MaxD = probablidade empate provida pela OddsPortal (casa de aposta inglesa)\n",
        "#MaxA = probablidade vitória time visitante provida pela OddsPortal (casa de aposta ingles\n",
        "#AvgH = probablidade média de vitória em casa provida pela OddsPortal (casa de aposta inglesa)\n",
        "#AvgD = probablidade média de empate provida pela OddsPortal (casa de aposta inglesa)\n",
        "#AvgA = probablidade média de vitória pelo time visitante provida pela OddsPortal (casa de aposta inglesa)"
      ],
      "metadata": {
        "id": "TVFfDildAi74"
      },
      "execution_count": 139,
      "outputs": []
    },
    {
      "cell_type": "code",
      "source": [
        "#Explorando os dados\n",
        "#Base de dados do Brasileirão de 2012 a 2021\n",
        "#shape é uma função do pandas que mostra as colunas e linhas da tabela\n",
        "\n",
        "matches=df.shape[0] #estudar\n",
        "\n",
        "features=df.shape[1] -1  #retira a coluna resultados\n",
        "\n",
        "home_wins=len(df[df.Res==1]) #aqui ele vai contar os dados respectivos de Vitoria do mandante\n",
        "away_wins=len(df[df.Res==2]) #Aqui ele vai contar os dados respectivos de vitorias do visitantes\n",
        "draw=len(df[df.Res==0]) #Aqui ele vai contar os dados respectivos de empates\n",
        "val=[home_wins,away_wins,draw] #aqui eu criei uma variavel contendo todos os dados de vitorias dos mandantes, visitantes e dos empates\n",
        "\n",
        "win_rate=(float(home_wins)/(matches))*100 #aqui é feito a conversão dos dados brutos em porcentagens\n",
        "\n",
        "print(\"Total de jogos\",matches)\n",
        "print(\"total de colunas:\",features)\n",
        "print(\"total de jogos ganhos em casa\",home_wins)\n",
        "print(\"Total de jogos ganhos dos visitantes\",away_wins)\n",
        "print(\"Total de jogos empatados\",draw)\n",
        "print(\"Percentual de jogos ganhos em casa: {:.2f}%\".format(win_rate))\n",
        "\n",
        "#O argumento casa é  importante para prever o resultado.\n"
      ],
      "metadata": {
        "colab": {
          "base_uri": "https://localhost:8080/"
        },
        "id": "GFojCNfaAjwv",
        "outputId": "1346c1ca-7770-4916-f18e-d174fc46f9c7"
      },
      "execution_count": 140,
      "outputs": [
        {
          "output_type": "stream",
          "name": "stdout",
          "text": [
            "Total de jogos 3706\n",
            "total de colunas: 18\n",
            "total de jogos ganhos em casa 1807\n",
            "Total de jogos ganhos dos visitantes 897\n",
            "Total de jogos empatados 1002\n",
            "Percentual de jogos ganhos em casa: 48.76%\n"
          ]
        }
      ]
    },
    {
      "cell_type": "code",
      "source": [
        "#Visualização dos resultados dos jogos\n",
        "\n",
        "x=np.arange(3)\n",
        "plt.bar(x,val)\n",
        "plt.xticks(x,(\"home\",\"away\",\"Draw\"))\n",
        "plt.show()"
      ],
      "metadata": {
        "colab": {
          "base_uri": "https://localhost:8080/",
          "height": 265
        },
        "id": "kwv17ip1AnRB",
        "outputId": "1a73f079-e73d-4b74-9eb6-02182dfc8afb"
      },
      "execution_count": 141,
      "outputs": [
        {
          "output_type": "display_data",
          "data": {
            "text/plain": [
              "<Figure size 432x288 with 1 Axes>"
            ],
            "image/png": "[encoded data removed]"
          },
          "metadata": {
            "needs_background": "light"
          }
        }
      ]
    },
    {
      "cell_type": "code",
      "source": [
        "#Preparando os dados\n",
        "\n",
        "#Deixando só as variaveis numericas\n",
        "\n",
        "num_df=df.drop([\"Country\",\"League\",\"Season\",\"Date\",\"Time\",\"Home\",\"Away\"],1)\n",
        "\n",
        "display(num_df.head())"
      ],
      "metadata": {
        "colab": {
          "base_uri": "https://localhost:8080/",
          "height": 261
        },
        "id": "zDxRhdkEApj4",
        "outputId": "0e8b5050-4300-4d53-b731-45e7b8035855"
      },
      "execution_count": 142,
      "outputs": [
        {
          "output_type": "stream",
          "name": "stderr",
          "text": [
            "/usr/local/lib/python3.7/dist-packages/ipykernel_launcher.py:5: FutureWarning: In a future version of pandas all arguments of DataFrame.drop except for the argument 'labels' will be keyword-only\n",
            "  \"\"\"\n"
          ]
        },
        {
          "output_type": "display_data",
          "data": {
            "text/plain": [
              "    HG   AG  Res    PH    PE    PA  MaxH  MaxD  MaxA  AvgH  AvgD  AvgA\n",
              "0  1.0  1.0    0  1.76  3.86  5.25  1.76  3.87  5.31  1.69  3.50  4.90\n",
              "1  1.0  1.0    0  2.83  3.39  2.68  2.83  3.42  2.70  2.59  3.23  2.58\n",
              "2  2.0  1.0    1  1.60  4.04  6.72  1.67  4.05  7.22  1.59  3.67  5.64\n",
              "3  4.0  2.0    1  2.49  3.35  3.15  2.49  3.39  3.15  2.35  3.26  2.84\n",
              "4  0.0  1.0    2  1.96  3.53  4.41  1.96  3.53  4.41  1.89  3.33  3.89"
            ],
            "text/html": [
              "\n",
              "  <div id=\"df-aa3f802a-3648-490e-803b-709afde13128\">\n",
              "    <div class=\"colab-df-container\">\n",
              "      <div>\n",
              "<style scoped>\n",
              "    .dataframe tbody tr th:only-of-type {\n",
              "        vertical-align: middle;\n",
              "    }\n",
              "\n",
              "    .dataframe tbody tr th {\n",
              "        vertical-align: top;\n",
              "    }\n",
              "\n",
              "    .dataframe thead th {\n",
              "        text-align: right;\n",
              "    }\n",
              "</style>\n",
              "<table border=\"1\" class=\"dataframe\">\n",
              "  <thead>\n",
              "    <tr style=\"text-align: right;\">\n",
              "      <th></th>\n",
              "      <th>HG</th>\n",
              "      <th>AG</th>\n",
              "      <th>Res</th>\n",
              "      <th>PH</th>\n",
              "      <th>PE</th>\n",
              "      <th>PA</th>\n",
              "      <th>MaxH</th>\n",
              "      <th>MaxD</th>\n",
              "      <th>MaxA</th>\n",
              "      <th>AvgH</th>\n",
              "      <th>AvgD</th>\n",
              "      <th>AvgA</th>\n",
              "    </tr>\n",
              "  </thead>\n",
              "  <tbody>\n",
              "    <tr>\n",
              "      <th>0</th>\n",
              "      <td>1.0</td>\n",
              "      <td>1.0</td>\n",
              "      <td>0</td>\n",
              "      <td>1.76</td>\n",
              "      <td>3.86</td>\n",
              "      <td>5.25</td>\n",
              "      <td>1.76</td>\n",
              "      <td>3.87</td>\n",
              "      <td>5.31</td>\n",
              "      <td>1.69</td>\n",
              "      <td>3.50</td>\n",
              "      <td>4.90</td>\n",
              "    </tr>\n",
              "    <tr>\n",
              "      <th>1</th>\n",
              "      <td>1.0</td>\n",
              "      <td>1.0</td>\n",
              "      <td>0</td>\n",
              "      <td>2.83</td>\n",
              "      <td>3.39</td>\n",
              "      <td>2.68</td>\n",
              "      <td>2.83</td>\n",
              "      <td>3.42</td>\n",
              "      <td>2.70</td>\n",
              "      <td>2.59</td>\n",
              "      <td>3.23</td>\n",
              "      <td>2.58</td>\n",
              "    </tr>\n",
              "    <tr>\n",
              "      <th>2</th>\n",
              "      <td>2.0</td>\n",
              "      <td>1.0</td>\n",
              "      <td>1</td>\n",
              "      <td>1.60</td>\n",
              "      <td>4.04</td>\n",
              "      <td>6.72</td>\n",
              "      <td>1.67</td>\n",
              "      <td>4.05</td>\n",
              "      <td>7.22</td>\n",
              "      <td>1.59</td>\n",
              "      <td>3.67</td>\n",
              "      <td>5.64</td>\n",
              "    </tr>\n",
              "    <tr>\n",
              "      <th>3</th>\n",
              "      <td>4.0</td>\n",
              "      <td>2.0</td>\n",
              "      <td>1</td>\n",
              "      <td>2.49</td>\n",
              "      <td>3.35</td>\n",
              "      <td>3.15</td>\n",
              "      <td>2.49</td>\n",
              "      <td>3.39</td>\n",
              "      <td>3.15</td>\n",
              "      <td>2.35</td>\n",
              "      <td>3.26</td>\n",
              "      <td>2.84</td>\n",
              "    </tr>\n",
              "    <tr>\n",
              "      <th>4</th>\n",
              "      <td>0.0</td>\n",
              "      <td>1.0</td>\n",
              "      <td>2</td>\n",
              "      <td>1.96</td>\n",
              "      <td>3.53</td>\n",
              "      <td>4.41</td>\n",
              "      <td>1.96</td>\n",
              "      <td>3.53</td>\n",
              "      <td>4.41</td>\n",
              "      <td>1.89</td>\n",
              "      <td>3.33</td>\n",
              "      <td>3.89</td>\n",
              "    </tr>\n",
              "  </tbody>\n",
              "</table>\n",
              "</div>\n",
              "      <button class=\"colab-df-convert\" onclick=\"convertToInteractive('df-aa3f802a-3648-490e-803b-709afde13128')\"\n",
              "              title=\"Convert this dataframe to an interactive table.\"\n",
              "              style=\"display:none;\">\n",
              "        \n",
              "  <svg xmlns=\"http://www.w3.org/2000/svg\" height=\"24px\"viewBox=\"0 0 24 24\"\n",
              "       width=\"24px\">\n",
              "    <path d=\"M0 0h24v24H0V0z\" fill=\"none\"/>\n",
              "    <path d=\"M18.56 5.44l.94 2.06.94-2.06 2.06-.94-2.06-.94-.94-2.06-.94 2.06-2.06.94zm-11 1L8.5 8.5l.94-2.06 2.06-.94-2.06-.94L8.5 2.5l-.94 2.06-2.06.94zm10 10l.94 2.06.94-2.06 2.06-.94-2.06-.94-.94-2.06-.94 2.06-2.06.94z\"/><path d=\"M17.41 7.96l-1.37-1.37c-.4-.4-.92-.59-1.43-.59-.52 0-1.04.2-1.43.59L10.3 9.45l-7.72 7.72c-.78.78-.78 2.05 0 2.83L4 21.41c.39.39.9.59 1.41.59.51 0 1.02-.2 1.41-.59l7.78-7.78 2.81-2.81c.8-.78.8-2.07 0-2.86zM5.41 20L4 18.59l7.72-7.72 1.47 1.35L5.41 20z\"/>\n",
              "  </svg>\n",
              "      </button>\n",
              "      \n",
              "  <style>\n",
              "    .colab-df-container {\n",
              "      display:flex;\n",
              "      flex-wrap:wrap;\n",
              "      gap: 12px;\n",
              "    }\n",
              "\n",
              "    .colab-df-convert {\n",
              "      background-color: #E8F0FE;\n",
              "      border: none;\n",
              "      border-radius: 50%;\n",
              "      cursor: pointer;\n",
              "      display: none;\n",
              "      fill: #1967D2;\n",
              "      height: 32px;\n",
              "      padding: 0 0 0 0;\n",
              "      width: 32px;\n",
              "    }\n",
              "\n",
              "    .colab-df-convert:hover {\n",
              "      background-color: #E2EBFA;\n",
              "      box-shadow: 0px 1px 2px rgba(60, 64, 67, 0.3), 0px 1px 3px 1px rgba(60, 64, 67, 0.15);\n",
              "      fill: #174EA6;\n",
              "    }\n",
              "\n",
              "    [theme=dark] .colab-df-convert {\n",
              "      background-color: #3B4455;\n",
              "      fill: #D2E3FC;\n",
              "    }\n",
              "\n",
              "    [theme=dark] .colab-df-convert:hover {\n",
              "      background-color: #434B5C;\n",
              "      box-shadow: 0px 1px 3px 1px rgba(0, 0, 0, 0.15);\n",
              "      filter: drop-shadow(0px 1px 2px rgba(0, 0, 0, 0.3));\n",
              "      fill: #FFFFFF;\n",
              "    }\n",
              "  </style>\n",
              "\n",
              "      <script>\n",
              "        const buttonEl =\n",
              "          document.querySelector('#df-aa3f802a-3648-490e-803b-709afde13128 button.colab-df-convert');\n",
              "        buttonEl.style.display =\n",
              "          google.colab.kernel.accessAllowed ? 'block' : 'none';\n",
              "\n",
              "        async function convertToInteractive(key) {\n",
              "          const element = document.querySelector('#df-aa3f802a-3648-490e-803b-709afde13128');\n",
              "          const dataTable =\n",
              "            await google.colab.kernel.invokeFunction('convertToInteractive',\n",
              "                                                     [key], {});\n",
              "          if (!dataTable) return;\n",
              "\n",
              "          const docLinkHtml = 'Like what you see? Visit the ' +\n",
              "            '<a target=\"_blank\" href=https://colab.research.google.com/notebooks/data_table.ipynb>data table notebook</a>'\n",
              "            + ' to learn more about interactive tables.';\n",
              "          element.innerHTML = '';\n",
              "          dataTable['output_type'] = 'display_data';\n",
              "          await google.colab.output.renderOutput(dataTable, element);\n",
              "          const docLink = document.createElement('div');\n",
              "          docLink.innerHTML = docLinkHtml;\n",
              "          element.appendChild(docLink);\n",
              "        }\n",
              "      </script>\n",
              "    </div>\n",
              "  </div>\n",
              "  "
            ]
          },
          "metadata": {}
        }
      ]
    },
    {
      "cell_type": "code",
      "source": [
        "#Separar as features\n",
        "features=num_df.drop([\"Res\"],1)\n",
        "\n",
        "#Separar as labels\n",
        "labels=num_df[\"Res\"]\n",
        "\n",
        "print(\"Features\")\n",
        "print(features.head())\n",
        "\n",
        "print(\"=========\")\n",
        "\n",
        "print(\"labels\")\n",
        "print(labels.head())"
      ],
      "metadata": {
        "colab": {
          "base_uri": "https://localhost:8080/"
        },
        "id": "YNsZme7ZAr8H",
        "outputId": "405dbfba-dfc5-47b7-bd18-48d839174e02"
      },
      "execution_count": 143,
      "outputs": [
        {
          "output_type": "stream",
          "name": "stdout",
          "text": [
            "Features\n",
            "    HG   AG    PH    PE    PA  MaxH  MaxD  MaxA  AvgH  AvgD  AvgA\n",
            "0  1.0  1.0  1.76  3.86  5.25  1.76  3.87  5.31  1.69  3.50  4.90\n",
            "1  1.0  1.0  2.83  3.39  2.68  2.83  3.42  2.70  2.59  3.23  2.58\n",
            "2  2.0  1.0  1.60  4.04  6.72  1.67  4.05  7.22  1.59  3.67  5.64\n",
            "3  4.0  2.0  2.49  3.35  3.15  2.49  3.39  3.15  2.35  3.26  2.84\n",
            "4  0.0  1.0  1.96  3.53  4.41  1.96  3.53  4.41  1.89  3.33  3.89\n",
            "=========\n",
            "labels\n",
            "0    0\n",
            "1    0\n",
            "2    1\n",
            "3    1\n",
            "4    2\n",
            "Name: Res, dtype: int64\n"
          ]
        },
        {
          "output_type": "stream",
          "name": "stderr",
          "text": [
            "/usr/local/lib/python3.7/dist-packages/ipykernel_launcher.py:2: FutureWarning: In a future version of pandas all arguments of DataFrame.drop except for the argument 'labels' will be keyword-only\n",
            "  \n"
          ]
        }
      ]
    },
    {
      "cell_type": "code",
      "source": [
        "df=df.dropna()\n",
        "df.shape"
      ],
      "metadata": {
        "colab": {
          "base_uri": "https://localhost:8080/"
        },
        "id": "cI-8dvkEAtxx",
        "outputId": "58809513-862b-4808-9bb6-46a681476083"
      },
      "execution_count": 144,
      "outputs": [
        {
          "output_type": "execute_result",
          "data": {
            "text/plain": [
              "(3706, 19)"
            ]
          },
          "metadata": {},
          "execution_count": 144
        }
      ]
    },
    {
      "cell_type": "code",
      "source": [
        "#escolhendo as melhores features com Kbest\n",
        "\n",
        "features_list = ('HG','AG','PH','PE','PA','MaxH','MaxD','MaxA','AvgH','AvgD','AvgA')\n",
        "\n",
        "k_best_features = SelectKBest(k='all')\n",
        "k_best_features.fit_transform(features,labels)\n",
        "k_best_features_scores = k_best_features.scores_\n",
        "raw_pairs = zip(features_list[1:], k_best_features_scores)\n",
        "ordered_pairs = list(reversed(sorted(raw_pairs, key=lambda x: x[1])))\n",
        "\n",
        "k_best_features_final = dict(ordered_pairs[:15])\n",
        "best_features = k_best_features_final.keys()\n",
        "print (\"\")\n",
        "print (\"Melhores features:\")\n",
        "print (k_best_features_final)"
      ],
      "metadata": {
        "colab": {
          "base_uri": "https://localhost:8080/"
        },
        "id": "FH-Cam9_Axjv",
        "outputId": "da2848df-b523-4f01-fc37-95a8ae3a2936"
      },
      "execution_count": 145,
      "outputs": [
        {
          "output_type": "stream",
          "name": "stdout",
          "text": [
            "\n",
            "Melhores features:\n",
            "{'AG': 1232.4092047823767, 'PH': 1186.3018320506708, 'PE': 149.52084584452467, 'AvgD': 145.30083996338516, 'MaxH': 133.82143868285397, 'AvgH': 132.89215942897417, 'MaxD': 130.51757346185278, 'MaxA': 69.56681529582592, 'AvgA': 68.86663959538893, 'PA': 67.49452616031172}\n"
          ]
        }
      ]
    },
    {
      "cell_type": "code",
      "source": [
        "#separa as features com base nos melhores features para treinamento\n",
        "features=df.drop([\"Res\",\"Home\",\"Away\",\"Time\",\"Season\",\"Date\",\"League\",\"Country\",],1)#retirei as colunas \n",
        "\n",
        "\n",
        "#Separa as labels para treinamento\n",
        "labels=df[\"Res\"]\n",
        "\n",
        "print(\"Features\")\n",
        "print(features.head())\n",
        "\n",
        "print(\"==========\")\n",
        "\n",
        "\n",
        "print(\"Labels\")\n",
        "print(labels.head())"
      ],
      "metadata": {
        "colab": {
          "base_uri": "https://localhost:8080/"
        },
        "id": "00HqN7Y0A2I3",
        "outputId": "f441e75c-ce6b-4d28-9db2-abd7c3202421"
      },
      "execution_count": 146,
      "outputs": [
        {
          "output_type": "stream",
          "name": "stdout",
          "text": [
            "Features\n",
            "    HG   AG    PH    PE    PA  MaxH  MaxD  MaxA  AvgH  AvgD  AvgA\n",
            "0  1.0  1.0  1.76  3.86  5.25  1.76  3.87  5.31  1.69  3.50  4.90\n",
            "1  1.0  1.0  2.83  3.39  2.68  2.83  3.42  2.70  2.59  3.23  2.58\n",
            "2  2.0  1.0  1.60  4.04  6.72  1.67  4.05  7.22  1.59  3.67  5.64\n",
            "3  4.0  2.0  2.49  3.35  3.15  2.49  3.39  3.15  2.35  3.26  2.84\n",
            "4  0.0  1.0  1.96  3.53  4.41  1.96  3.53  4.41  1.89  3.33  3.89\n",
            "==========\n",
            "Labels\n",
            "0    0\n",
            "1    0\n",
            "2    1\n",
            "3    1\n",
            "4    2\n",
            "Name: Res, dtype: int64\n"
          ]
        },
        {
          "output_type": "stream",
          "name": "stderr",
          "text": [
            "/usr/local/lib/python3.7/dist-packages/ipykernel_launcher.py:2: FutureWarning: In a future version of pandas all arguments of DataFrame.drop except for the argument 'labels' will be keyword-only\n",
            "  \n"
          ]
        }
      ]
    },
    {
      "cell_type": "code",
      "source": [
        "#Normalizando os dados de entrada (features)\n",
        "\n",
        "#gerando o novo padrão\n",
        "scaler = MinMaxScaler().fit(features)\n",
        "features_scale=scaler.transform(features)\n",
        "\n",
        "print(\"Features: \",features_scale.shape)\n",
        "print(features_scale)"
      ],
      "metadata": {
        "colab": {
          "base_uri": "https://localhost:8080/"
        },
        "id": "ppg8R6_YA263",
        "outputId": "0cc446b3-c66d-459f-d3ca-c714ae864715"
      },
      "execution_count": 147,
      "outputs": [
        {
          "output_type": "stream",
          "name": "stdout",
          "text": [
            "Features:  (3706, 11)\n",
            "[[0.16666667 0.16666667 0.04096386 ... 0.03235908 0.11913357 0.14746363]\n",
            " [0.16666667 0.16666667 0.10542169 ... 0.07933194 0.0866426  0.0562328 ]\n",
            " [0.33333333 0.16666667 0.0313253  ... 0.02713987 0.13959085 0.17656311]\n",
            " ...\n",
            " [0.33333333 0.         0.08373494 ... 0.07098121 0.04091456 0.0833661 ]\n",
            " [0.16666667 0.         0.08975904 ... 0.07463466 0.05535499 0.07392843]\n",
            " [0.16666667 0.         0.01807229 ... 0.01565762 0.24548736 0.29256783]]\n"
          ]
        }
      ]
    },
    {
      "cell_type": "code",
      "source": [
        "#Treinando e fazendo teste\n",
        "from sklearn.model_selection import train_test_split\n",
        "X_train, X_test, Y_train, Y_test=train_test_split(features_scale,labels, test_size=0.33, random_state=42, shuffle=False)"
      ],
      "metadata": {
        "id": "F7QZDhj_A5Ov"
      },
      "execution_count": 148,
      "outputs": []
    },
    {
      "cell_type": "code",
      "source": [
        "print(X_train.shape)"
      ],
      "metadata": {
        "colab": {
          "base_uri": "https://localhost:8080/"
        },
        "id": "oEqUWgIDA7cJ",
        "outputId": "87ad315b-d640-4f5f-be92-ec2c65b133a5"
      },
      "execution_count": 149,
      "outputs": [
        {
          "output_type": "stream",
          "name": "stdout",
          "text": [
            "(2483, 11)\n"
          ]
        }
      ]
    },
    {
      "cell_type": "code",
      "source": [
        "X_test.shape"
      ],
      "metadata": {
        "colab": {
          "base_uri": "https://localhost:8080/"
        },
        "id": "uhevneL8BAyo",
        "outputId": "2f8421a2-7cb5-4ec6-f5a0-bb343e2d433c"
      },
      "execution_count": 150,
      "outputs": [
        {
          "output_type": "execute_result",
          "data": {
            "text/plain": [
              "(1223, 11)"
            ]
          },
          "metadata": {},
          "execution_count": 150
        }
      ]
    },
    {
      "cell_type": "code",
      "source": [
        "#print ('LogisticRegression')\n",
        "\n",
        "\n",
        "#clf_LR = LogisticRegression(multi_class='multinomial',max_iter=200)\n",
        "#clf_LR.fit(X_train, Y_train)\n",
        "#pred= clf_LR.predict(X_test)\n",
        "\n",
        "#lg_acc = accuracy_score(Y_test, pred)\n",
        "#f1=f1_score(Y_test,pred,average = 'micro')\n",
        "#print ('Acurácia LogisticRegression:{}'.format(lg_acc))\n",
        "#print ('F1 Score:{}'.format(f1) )"
      ],
      "metadata": {
        "id": "CrGg5i3LBDMI"
      },
      "execution_count": 151,
      "outputs": []
    },
    {
      "cell_type": "code",
      "source": [
        "#param_grid = {'C': [0.001, 0.01, 0.1, 1, 10, 100, 1000, 10000] }\n",
        "#search = GridSearchCV(LogisticRegression(max_iter=1000), param_grid)\n",
        "\n",
        "#search.fit(X_train,Y_train)\n",
        "#clf = search.best_estimator_\n",
        "#pred= clf.predict(X_test)\n",
        "#lg_acc = accuracy_score(Y_test, pred)\n",
        "\n",
        "\n",
        "#f1=f1_score(Y_test,pred,average = 'macro')\n",
        "\n",
        "#print ('Acurácia LogisticRegression:{}'.format(lg_acc))\n",
        "#print ('F1 Score:{}'.format(f1) )\n",
        "\n",
        "#print (clf)"
      ],
      "metadata": {
        "id": "iaWRkh7lBF5f"
      },
      "execution_count": 152,
      "outputs": []
    },
    {
      "cell_type": "code",
      "source": [
        "#Treinando e testando os modelos\n",
        "print ('Decision Tree')\n",
        "\n",
        "\n",
        "clf = DecisionTreeClassifier()\n",
        "clf.fit(X_train, Y_train)\n",
        "pred= clf.predict(X_test)\n",
        "\n",
        "dt_acc = accuracy_score(Y_test, pred)\n",
        "f1=f1_score(Y_test,pred, average='macro')\n",
        "print ('Acurácia Tree:{}'.format(dt_acc))\n",
        "print ('F1 Score:{}'.format(f1) )\n",
        "\n",
        "\n",
        "n_estimators = [10, 50, 100, 200]\n",
        "max_depth = [3, 10, 20, 40]"
      ],
      "metadata": {
        "colab": {
          "base_uri": "https://localhost:8080/"
        },
        "id": "uEBs6_CfKzHA",
        "outputId": "88fa0814-f6ee-4238-a614-336b44b0a75f"
      },
      "execution_count": 153,
      "outputs": [
        {
          "output_type": "stream",
          "name": "stdout",
          "text": [
            "Decision Tree\n",
            "Acurácia Tree:0.9991823385118561\n",
            "F1 Score:0.9989793544883897\n"
          ]
        }
      ]
    },
    {
      "cell_type": "code",
      "source": [
        "#Testando Decision tree hyper parameters\n",
        "print ('Decision Tree')\n",
        "\n",
        "param_grid = {\n",
        "    'max_depth': [80, 90, 100, 110],\n",
        "    'max_features': [2, 3],\n",
        "    'min_samples_leaf': [3, 4, 5],\n",
        "    'min_samples_split': [8, 10, 12]\n",
        "    \n",
        "  \n",
        "}\n",
        "\n",
        "search = GridSearchCV(DecisionTreeClassifier(), param_grid)\n",
        "\n",
        "search.fit(X_train,Y_train)\n",
        "clf = search.best_estimator_\n",
        "pred= clf.predict(X_test)\n",
        "dt_acc = accuracy_score(Y_test, pred)\n",
        "\n",
        "\n",
        "f1=f1_score(Y_test,pred,average = 'micro')\n",
        "\n",
        "print ('Acurácia Decision Tree:{}'.format(dt_acc))\n",
        "print ('F1 Score:{}'.format(f1) )\n",
        "\n",
        "print (clf)\n"
      ],
      "metadata": {
        "colab": {
          "base_uri": "https://localhost:8080/"
        },
        "id": "f4kBXkYuMnRF",
        "outputId": "089a8189-05d3-4590-f3f6-3be37e7e3f0e"
      },
      "execution_count": 154,
      "outputs": [
        {
          "output_type": "stream",
          "name": "stdout",
          "text": [
            "Decision Tree\n",
            "Acurácia Decision Tree:0.9304987735077678\n",
            "F1 Score:0.9304987735077678\n",
            "DecisionTreeClassifier(max_depth=110, max_features=3, min_samples_leaf=3,\n",
            "                       min_samples_split=8)\n"
          ]
        }
      ]
    },
    {
      "cell_type": "code",
      "source": [
        "#report = classification_report(Y_test,pred)\n",
        "#print(report)"
      ],
      "metadata": {
        "id": "h6vYFWVxTfEt"
      },
      "execution_count": 155,
      "outputs": []
    },
    {
      "cell_type": "code",
      "source": [
        "import pickle #estuda\n",
        "pickle.dump(clf,open(\"Modelo_BR_PREDICT_30032022\",\"wb\"))"
      ],
      "metadata": {
        "id": "XFZZQiNkTwpm"
      },
      "execution_count": 156,
      "outputs": []
    },
    {
      "cell_type": "code",
      "source": [
        "X_test[0]"
      ],
      "metadata": {
        "colab": {
          "base_uri": "https://localhost:8080/"
        },
        "id": "rMWhkueHUgi7",
        "outputId": "1b10d796-997f-4410-c7a5-ed23f3ccf6c1"
      },
      "execution_count": 157,
      "outputs": [
        {
          "output_type": "execute_result",
          "data": {
            "text/plain": [
              "array([0.16666667, 0.        , 0.13313253, 0.12358393, 0.03552585,\n",
              "       0.08276603, 0.11448835, 0.06111111, 0.10960334, 0.11672684,\n",
              "       0.03971687])"
            ]
          },
          "metadata": {},
          "execution_count": 157
        }
      ]
    },
    {
      "cell_type": "code",
      "source": [
        "#from sklearn.ensemble import GradientBoostingClassifier\n",
        "#from sklearn.metrics import classification_report\n",
        "#xgb = GradientBoostingClassifier(\n",
        "#    max_depth= 110,\n",
        "#    verbose = 3,\n",
        "#    learning_rate = 0.1,\n",
        "#    n_estimators = 2,\n",
        "#    criterion = 'squared_error',\n",
        "#    max_features = None,\n",
        "#    n_iter_no_change = 10,\n",
        "#    min_samples_leaf= 3,\n",
        "#    min_samples_split= 8,\n",
        "#)\n",
        "    \n",
        "#xgb.fit(X_train,Y_train)\n",
        "#predXGB = xgb.predict(X_test)\n"
      ],
      "metadata": {
        "id": "6N8eYTnmMv71"
      },
      "execution_count": 158,
      "outputs": []
    },
    {
      "cell_type": "code",
      "source": [
        "#report = classification_report(Y_test,predXGB)\n",
        "#print(report)"
      ],
      "metadata": {
        "id": "PiBMqr5CPAAW"
      },
      "execution_count": 159,
      "outputs": []
    },
    {
      "cell_type": "code",
      "source": [
        "X, Y = make_classification(random_state=42)\n",
        "X_train, X_test, Y_train, Y_test = train_test_split(X, Y,\n",
        "                                                    random_state=42)\n",
        "clf = SVC(random_state=42)\n",
        "clf.fit(X_train, Y_train)\n",
        "SVC(random_state=42)\n",
        "predictions = clf.predict(X_test)\n",
        "cm = confusion_matrix(Y_test, predictions, labels=clf.classes_)\n",
        "disp = ConfusionMatrixDisplay(confusion_matrix=cm,\n",
        "                              display_labels=clf.classes_)\n",
        "disp.plot()\n",
        "\n",
        "plt.show()"
      ],
      "metadata": {
        "colab": {
          "base_uri": "https://localhost:8080/",
          "height": 279
        },
        "id": "igpHMkXvT3yO",
        "outputId": "10af4de4-e125-419a-dee3-99c782b27f3c"
      },
      "execution_count": 161,
      "outputs": [
        {
          "output_type": "display_data",
          "data": {
            "text/plain": [
              "<Figure size 432x288 with 2 Axes>"
            ],
            "image/png": "[encoded data removed]"
          },
          "metadata": {
            "needs_background": "light"
          }
        }
      ]
    },
    {
      "cell_type": "code",
      "source": [
        ""
      ],
      "metadata": {
        "id": "ZNgufjGKVp9O"
      },
      "execution_count": 160,
      "outputs": []
    }
  ]
}